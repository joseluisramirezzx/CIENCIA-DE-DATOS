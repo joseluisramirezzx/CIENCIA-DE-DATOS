{
  "nbformat": 4,
  "nbformat_minor": 0,
  "metadata": {
    "colab": {
      "provenance": []
    },
    "kernelspec": {
      "name": "python3",
      "display_name": "Python 3"
    },
    "language_info": {
      "name": "python"
    }
  },
  "cells": [
    {
      "cell_type": "markdown",
      "source": [
        "#INTRODUCCIÓN A PYTHON - JOSÉ LUIS RAMÍREZ GARCÍA\n",
        "##TIPO DE DATOS\n",
        "\n",
        "* NÚMERICOS(int=enteros, float=decimales)\n",
        "* BOLEANOS (TRUE y FALSE)\n",
        "*   CADENAS (todos aquellos que se encuentran entre comillas \"\")\n",
        "*   LISTAS (con llaves [])\n",
        "*   DICCIONARIOS (con llaves {})\n",
        "\n",
        "\n",
        "\n",
        "comando type(): con que tipo de datos estamos manejando\n",
        "comentarios en verde.\n",
        "en negro las operaciones matematicas\n",
        "rojo alfanumericos o cadenas de caracteres\n",
        "azules para funciones\n",
        "\n"
      ],
      "metadata": {
        "id": "jRME2zozJksU"
      }
    },
    {
      "cell_type": "code",
      "execution_count": null,
      "metadata": {
        "colab": {
          "base_uri": "https://localhost:8080/"
        },
        "id": "-RmU-abnJFtT",
        "outputId": "a0aaf7ce-f8d8-42d9-a743-2b21b79bff14"
      },
      "outputs": [
        {
          "output_type": "execute_result",
          "data": {
            "text/plain": [
              "17"
            ]
          },
          "metadata": {},
          "execution_count": 1
        }
      ],
      "source": [
        "5+3*4"
      ]
    },
    {
      "cell_type": "code",
      "source": [
        "a=5+3*4\n",
        "type(a)\n",
        "print(a)"
      ],
      "metadata": {
        "colab": {
          "base_uri": "https://localhost:8080/"
        },
        "id": "h79CZR-CMPyz",
        "outputId": "64909f07-9397-4cff-978e-433c2c31c02a"
      },
      "execution_count": null,
      "outputs": [
        {
          "output_type": "stream",
          "name": "stdout",
          "text": [
            "17\n"
          ]
        }
      ]
    },
    {
      "cell_type": "code",
      "source": [
        "print(f\"5+3*4={5+3*4} y es un valor de tipo {type(5+3*4)}\")"
      ],
      "metadata": {
        "colab": {
          "base_uri": "https://localhost:8080/"
        },
        "id": "_y18RaU4MjRi",
        "outputId": "87dc8c2e-e273-4e58-d241-4927dcf809d9"
      },
      "execution_count": null,
      "outputs": [
        {
          "output_type": "stream",
          "name": "stdout",
          "text": [
            "5+3*4=17 y es un valor de tipo <class 'int'>\n"
          ]
        }
      ]
    },
    {
      "cell_type": "code",
      "source": [
        "\"5\"+\"2\"*3"
      ],
      "metadata": {
        "colab": {
          "base_uri": "https://localhost:8080/",
          "height": 35
        },
        "id": "zex5jtRZNAnB",
        "outputId": "ff6a4680-1014-4e19-bfcd-2e40e56c33b0"
      },
      "execution_count": null,
      "outputs": [
        {
          "output_type": "execute_result",
          "data": {
            "text/plain": [
              "'5222'"
            ],
            "application/vnd.google.colaboratory.intrinsic+json": {
              "type": "string"
            }
          },
          "metadata": {},
          "execution_count": 9
        }
      ]
    },
    {
      "cell_type": "code",
      "source": [
        "print(f'\"5\"+\"2\"*3={\"5\"+\"2\"*3} y es de tipo {type(\"5\"+\"2\"*3 )}')"
      ],
      "metadata": {
        "colab": {
          "base_uri": "https://localhost:8080/"
        },
        "id": "2zZ3YBI2NdTY",
        "outputId": "b389cc6f-3761-4c2a-a47e-8979e8c9215d"
      },
      "execution_count": null,
      "outputs": [
        {
          "output_type": "stream",
          "name": "stdout",
          "text": [
            "\"5\"+\"2\"*3=5222 y es de tipo <class 'str'>\n"
          ]
        }
      ]
    },
    {
      "cell_type": "code",
      "source": [
        "2**11==1000 or 2**9==100\n"
      ],
      "metadata": {
        "colab": {
          "base_uri": "https://localhost:8080/"
        },
        "id": "ilB9MTNnO2vY",
        "outputId": "6d0703bb-c704-4dfd-8dac-1c76c6b664ea"
      },
      "execution_count": null,
      "outputs": [
        {
          "output_type": "execute_result",
          "data": {
            "text/plain": [
              "False"
            ]
          },
          "metadata": {},
          "execution_count": 12
        }
      ]
    },
    {
      "cell_type": "code",
      "source": [
        "2**11 #** potenciacion"
      ],
      "metadata": {
        "colab": {
          "base_uri": "https://localhost:8080/"
        },
        "id": "BnnfFGN7PGXA",
        "outputId": "7b0ba9bb-78d4-425d-95be-8ea1fc74d759"
      },
      "execution_count": null,
      "outputs": [
        {
          "output_type": "execute_result",
          "data": {
            "text/plain": [
              "2048"
            ]
          },
          "metadata": {},
          "execution_count": 14
        }
      ]
    },
    {
      "cell_type": "code",
      "source": [
        "2**11==1000"
      ],
      "metadata": {
        "colab": {
          "base_uri": "https://localhost:8080/"
        },
        "id": "YiNio6LKPTZX",
        "outputId": "1626d977-339d-44a9-a708-4f35e83cdb35"
      },
      "execution_count": null,
      "outputs": [
        {
          "output_type": "execute_result",
          "data": {
            "text/plain": [
              "False"
            ]
          },
          "metadata": {},
          "execution_count": 17
        }
      ]
    },
    {
      "cell_type": "code",
      "source": [
        "2**9==100"
      ],
      "metadata": {
        "colab": {
          "base_uri": "https://localhost:8080/"
        },
        "id": "GlETMcQePk2G",
        "outputId": "b85dab5d-11df-4168-e646-f4d5d6405797"
      },
      "execution_count": null,
      "outputs": [
        {
          "output_type": "execute_result",
          "data": {
            "text/plain": [
              "False"
            ]
          },
          "metadata": {},
          "execution_count": 18
        }
      ]
    },
    {
      "cell_type": "code",
      "source": [
        "##Operadores lógicos\n",
        "##y - and: CONJUNCION una preposicion es verdaderasi ambas preposociones son verdaderas\n",
        "##no - not: NEGACION= altera el valor de verdad de la preposicion\n",
        "## o - OR: DISYUNCION=ima ´preposicion es verdadera si ambas preposciones son verdaderas\n",
        "\n",
        "## un igual = es para asignar, doble igual == para comparar"
      ],
      "metadata": {
        "id": "IElZi-1GPoye"
      },
      "execution_count": null,
      "outputs": []
    },
    {
      "cell_type": "code",
      "source": [
        "type(2**11==1000 or 2**9==100\n",
        ")"
      ],
      "metadata": {
        "colab": {
          "base_uri": "https://localhost:8080/"
        },
        "id": "q9mLZtHDQH1f",
        "outputId": "21f23671-2e39-4df5-ba4e-a905199aa740"
      },
      "execution_count": null,
      "outputs": [
        {
          "output_type": "execute_result",
          "data": {
            "text/plain": [
              "bool"
            ]
          },
          "metadata": {},
          "execution_count": 19
        }
      ]
    },
    {
      "cell_type": "code",
      "source": [
        "print(f\"2**11==1000 or 2**9==100 es {(2**11==1000 or 2**9==100)} y es de tipo {type(2**11==1000 or 2**9==100)}\")"
      ],
      "metadata": {
        "colab": {
          "base_uri": "https://localhost:8080/"
        },
        "id": "RV1e8YIyQU73",
        "outputId": "8b739057-87ce-4ef2-d892-d074a8a4640f"
      },
      "execution_count": null,
      "outputs": [
        {
          "output_type": "stream",
          "name": "stdout",
          "text": [
            "2**11==1000 or 2**9==100 es False y es de tipo <class 'bool'>\n"
          ]
        }
      ]
    },
    {
      "cell_type": "code",
      "source": [
        "16/16 + 384/24"
      ],
      "metadata": {
        "colab": {
          "base_uri": "https://localhost:8080/"
        },
        "id": "ITOCnbx6RpoW",
        "outputId": "9a017316-3e21-4c2e-cdf1-4dc4f335a78a"
      },
      "execution_count": null,
      "outputs": [
        {
          "output_type": "execute_result",
          "data": {
            "text/plain": [
              "17.0"
            ]
          },
          "metadata": {},
          "execution_count": 24
        }
      ]
    },
    {
      "cell_type": "code",
      "source": [
        "type(16/16 + 384/24)"
      ],
      "metadata": {
        "colab": {
          "base_uri": "https://localhost:8080/"
        },
        "id": "numElU3GRtwW",
        "outputId": "5061813b-c68e-4a9d-bf7a-4ef242f327cc"
      },
      "execution_count": null,
      "outputs": [
        {
          "output_type": "execute_result",
          "data": {
            "text/plain": [
              "float"
            ]
          },
          "metadata": {},
          "execution_count": 25
        }
      ]
    },
    {
      "cell_type": "code",
      "source": [
        "int(16/16 + 384/24)"
      ],
      "metadata": {
        "colab": {
          "base_uri": "https://localhost:8080/"
        },
        "id": "y9sBTQQBR30W",
        "outputId": "70bb7efe-bc1f-4b91-9b22-bdd0bd6d96b8"
      },
      "execution_count": null,
      "outputs": [
        {
          "output_type": "execute_result",
          "data": {
            "text/plain": [
              "17"
            ]
          },
          "metadata": {},
          "execution_count": 26
        }
      ]
    },
    {
      "cell_type": "code",
      "source": [
        "##600 + 18%2 erros de tipo sintaxis"
      ],
      "metadata": {
        "id": "5AZaVcxWTBMl"
      },
      "execution_count": null,
      "outputs": []
    },
    {
      "cell_type": "code",
      "source": [
        "600 + 18%2"
      ],
      "metadata": {
        "colab": {
          "base_uri": "https://localhost:8080/"
        },
        "id": "LlNhcntNSpXV",
        "outputId": "f558fdbf-7a50-418c-eece-f47fad1b3b4f"
      },
      "execution_count": null,
      "outputs": [
        {
          "output_type": "execute_result",
          "data": {
            "text/plain": [
              "600"
            ]
          },
          "metadata": {},
          "execution_count": 28
        }
      ]
    },
    {
      "cell_type": "code",
      "source": [
        "0<4096%10<6"
      ],
      "metadata": {
        "colab": {
          "base_uri": "https://localhost:8080/"
        },
        "id": "watADN6HTH2d",
        "outputId": "e37de17a-d5d6-4eb9-fbb8-f076e7ee5cf1"
      },
      "execution_count": null,
      "outputs": [
        {
          "output_type": "execute_result",
          "data": {
            "text/plain": [
              "False"
            ]
          },
          "metadata": {},
          "execution_count": 30
        }
      ]
    },
    {
      "cell_type": "code",
      "source": [
        "'Max'+'Min'"
      ],
      "metadata": {
        "colab": {
          "base_uri": "https://localhost:8080/",
          "height": 35
        },
        "id": "-xXzdXeLTieN",
        "outputId": "65e17a45-374e-4856-d8cc-e9c67fa42a92"
      },
      "execution_count": null,
      "outputs": [
        {
          "output_type": "execute_result",
          "data": {
            "text/plain": [
              "'MaxMin'"
            ],
            "application/vnd.google.colaboratory.intrinsic+json": {
              "type": "string"
            }
          },
          "metadata": {},
          "execution_count": 32
        }
      ]
    },
    {
      "cell_type": "code",
      "source": [
        "ABC()*DEF() #ERROR PORQUE LA FUNCIÓN ABD() Y DEF() NO ESTÁN DEFINIDAS"
      ],
      "metadata": {
        "id": "ACe0IlD5UfB0"
      },
      "execution_count": null,
      "outputs": []
    },
    {
      "cell_type": "code",
      "source": [
        "float(-int(\"7\")+int('90')) #HAY QUE REVISAS LAS COMILLAS PORQUE SI NO SE PONEN DONDE ES PUEDE GENERAR ERROR"
      ],
      "metadata": {
        "colab": {
          "base_uri": "https://localhost:8080/"
        },
        "id": "QwIO1mPGUqXz",
        "outputId": "9f893427-2f34-431f-9cac-21ac95935321"
      },
      "execution_count": null,
      "outputs": [
        {
          "output_type": "execute_result",
          "data": {
            "text/plain": [
              "83.0"
            ]
          },
          "metadata": {},
          "execution_count": 36
        }
      ]
    },
    {
      "cell_type": "code",
      "source": [
        "abs(len('SEIS')- len('TRES')) #abs indica el valor total (absoluto) y len da el valor del numero de caracteres que hay. Por ende es como si se restaran los caracteres"
      ],
      "metadata": {
        "colab": {
          "base_uri": "https://localhost:8080/"
        },
        "id": "P6eMeQ_uVRrc",
        "outputId": "3910817f-79e0-46f1-99c8-f03f49c27525"
      },
      "execution_count": null,
      "outputs": [
        {
          "output_type": "execute_result",
          "data": {
            "text/plain": [
              "0"
            ]
          },
          "metadata": {},
          "execution_count": 39
        }
      ]
    },
    {
      "cell_type": "code",
      "source": [
        "print(\"len de seis es\", len('SEIS'), \"y len de tres es\", len('TRES'), \"por tanto el resultado de la resta es\", abs(len('seis')- len('tres')), \"y es de tipo\", type(abs(len('SEIS')- len('TRES'))))"
      ],
      "metadata": {
        "colab": {
          "base_uri": "https://localhost:8080/"
        },
        "id": "6TS0jvgmVx-z",
        "outputId": "4e90404e-0c01-4de3-f6f9-4c30532a2639"
      },
      "execution_count": null,
      "outputs": [
        {
          "output_type": "stream",
          "name": "stdout",
          "text": [
            "len de seis es 4 y len de tres es 4 por tanto el resultado de la resta es 0 y es de tipo <class 'int'>\n"
          ]
        }
      ]
    },
    {
      "cell_type": "code",
      "source": [
        "bool(1210) or bool(-3465) #cualquier numero que no sea cero es verdadero, puesto que al convertirse en booleano va a dar true"
      ],
      "metadata": {
        "colab": {
          "base_uri": "https://localhost:8080/"
        },
        "id": "AHBn4NbqXkji",
        "outputId": "78403eb2-fd11-43ef-c76a-fb7616fbcf71"
      },
      "execution_count": null,
      "outputs": [
        {
          "output_type": "execute_result",
          "data": {
            "text/plain": [
              "True"
            ]
          },
          "metadata": {},
          "execution_count": 48
        }
      ]
    },
    {
      "cell_type": "code",
      "source": [
        "bool(-3465)"
      ],
      "metadata": {
        "colab": {
          "base_uri": "https://localhost:8080/"
        },
        "id": "NM0-6wLOX0zg",
        "outputId": "1999e6d8-7b5e-4c40-dbb2-26a7715bf8ff"
      },
      "execution_count": null,
      "outputs": [
        {
          "output_type": "execute_result",
          "data": {
            "text/plain": [
              "True"
            ]
          },
          "metadata": {},
          "execution_count": 50
        }
      ]
    },
    {
      "cell_type": "code",
      "source": [
        "bool(1210)"
      ],
      "metadata": {
        "colab": {
          "base_uri": "https://localhost:8080/"
        },
        "id": "Dl88xhkJXwLY",
        "outputId": "b06f8912-dd11-48de-c5e0-52eaf6e9fd94"
      },
      "execution_count": null,
      "outputs": [
        {
          "output_type": "execute_result",
          "data": {
            "text/plain": [
              "True"
            ]
          },
          "metadata": {},
          "execution_count": 49
        }
      ]
    },
    {
      "cell_type": "code",
      "source": [
        "float(str(int('8'*3)/3)[3])"
      ],
      "metadata": {
        "colab": {
          "base_uri": "https://localhost:8080/",
          "height": 141
        },
        "id": "H_RfMjDwYVbh",
        "outputId": "ba3127bb-2107-4051-e518-1fe5c22aed74"
      },
      "execution_count": null,
      "outputs": [
        {
          "output_type": "error",
          "ename": "ValueError",
          "evalue": "could not convert string to float: '.'",
          "traceback": [
            "\u001b[0;31m---------------------------------------------------------------------------\u001b[0m",
            "\u001b[0;31mValueError\u001b[0m                                Traceback (most recent call last)",
            "\u001b[0;32m<ipython-input-51-3f01b5c33746>\u001b[0m in \u001b[0;36m<cell line: 1>\u001b[0;34m()\u001b[0m\n\u001b[0;32m----> 1\u001b[0;31m \u001b[0mfloat\u001b[0m\u001b[0;34m(\u001b[0m\u001b[0mstr\u001b[0m\u001b[0;34m(\u001b[0m\u001b[0mint\u001b[0m\u001b[0;34m(\u001b[0m\u001b[0;34m'8'\u001b[0m\u001b[0;34m*\u001b[0m\u001b[0;36m3\u001b[0m\u001b[0;34m)\u001b[0m\u001b[0;34m/\u001b[0m\u001b[0;36m3\u001b[0m\u001b[0;34m)\u001b[0m\u001b[0;34m[\u001b[0m\u001b[0;36m3\u001b[0m\u001b[0;34m]\u001b[0m\u001b[0;34m)\u001b[0m\u001b[0;34m\u001b[0m\u001b[0;34m\u001b[0m\u001b[0m\n\u001b[0m",
            "\u001b[0;31mValueError\u001b[0m: could not convert string to float: '.'"
          ]
        }
      ]
    },
    {
      "cell_type": "code",
      "source": [
        "int('8'*3)/3"
      ],
      "metadata": {
        "colab": {
          "base_uri": "https://localhost:8080/"
        },
        "id": "rMCM8Fz5YoMw",
        "outputId": "332668c9-ed5f-463c-b7d6-609cac2711f7"
      },
      "execution_count": null,
      "outputs": [
        {
          "output_type": "execute_result",
          "data": {
            "text/plain": [
              "296.0"
            ]
          },
          "metadata": {},
          "execution_count": 53
        }
      ]
    },
    {
      "cell_type": "code",
      "source": [
        "str(int('8'*3)/3)[3] #De una cadena de caracteres está tomando el que está en la posición 3 contando desde cero."
      ],
      "metadata": {
        "colab": {
          "base_uri": "https://localhost:8080/",
          "height": 35
        },
        "id": "TUFHzsf5YvIo",
        "outputId": "dbe94bbb-dee0-4693-9794-6c86cb6060bf"
      },
      "execution_count": null,
      "outputs": [
        {
          "output_type": "execute_result",
          "data": {
            "text/plain": [
              "'.'"
            ],
            "application/vnd.google.colaboratory.intrinsic+json": {
              "type": "string"
            }
          },
          "metadata": {},
          "execution_count": 54
        }
      ]
    },
    {
      "cell_type": "code",
      "source": [
        "float(str(int('8'*3)/3)[2])"
      ],
      "metadata": {
        "colab": {
          "base_uri": "https://localhost:8080/"
        },
        "id": "W48KEkhsY2g5",
        "outputId": "f0e45fcc-be84-4ac4-94f4-3c95b72b097c"
      },
      "execution_count": null,
      "outputs": [
        {
          "output_type": "execute_result",
          "data": {
            "text/plain": [
              "6.0"
            ]
          },
          "metadata": {},
          "execution_count": 55
        }
      ]
    },
    {
      "cell_type": "code",
      "source": [
        "print(\"Mi nombre es José Luis Ramírez y la fecha de hoy es 12 de Agosto de 2024\")"
      ],
      "metadata": {
        "colab": {
          "base_uri": "https://localhost:8080/"
        },
        "id": "yn_xW_sfZGiR",
        "outputId": "15d2ca19-b67a-47b0-fc99-945fdba6bf10"
      },
      "execution_count": null,
      "outputs": [
        {
          "output_type": "stream",
          "name": "stdout",
          "text": [
            "Mi nombre es José Luis Ramírez y la fecha de hoy es 12 de Agosto de 2024\n"
          ]
        }
      ]
    },
    {
      "cell_type": "code",
      "source": [
        "A=input(\"cual es tu nombre \") #Input es una funcion que permite almacenar una respuesta relacionada con lo que esta dentro del parentesis\n",
        "print(\"Hola\",A, \"espero tengas un lindo día\")"
      ],
      "metadata": {
        "colab": {
          "base_uri": "https://localhost:8080/"
        },
        "id": "RYDInE_IayEv",
        "outputId": "6ecf4659-d02d-4e7f-d9bf-ed31ca94fdcd"
      },
      "execution_count": null,
      "outputs": [
        {
          "output_type": "stream",
          "name": "stdout",
          "text": [
            "cual es tu nombre José\n",
            "Hola José  espero tengas un lindo día\n"
          ]
        }
      ]
    },
    {
      "cell_type": "code",
      "source": [
        "B=int(input(\"dime el el radio aleatorio de un círculo:\"))\n",
        "diametro= B*2\n",
        "perimetro= 3.1415*diametro\n",
        "area= 3.1415*(B**2)\n",
        "print(\"El radio de ese circulo es:\",B,\", su diametro es\",diametro, \"su perimetro es\",perimetro, \"y su area es\",area)"
      ],
      "metadata": {
        "colab": {
          "base_uri": "https://localhost:8080/"
        },
        "id": "ntLdUeJyc2QN",
        "outputId": "49bf2c88-69d6-40c5-8f30-59966344ca5f"
      },
      "execution_count": null,
      "outputs": [
        {
          "output_type": "stream",
          "name": "stdout",
          "text": [
            "dime el el radio aleatorio de un círculo:5\n",
            "El radio de ese circulo es: 5 , su diametro es 10 su perimetro es 31.415000000000003 y su area es 78.53750000000001\n"
          ]
        }
      ]
    },
    {
      "cell_type": "code",
      "source": [
        "# Solicitar las 6 notas al usuario\n",
        "notas = []\n",
        "for i in range(6):\n",
        "    nota = float(input(f\"Ingresa la nota {i + 1}: \"))\n",
        "    notas.append(nota)\n",
        "\n",
        "# Calcular el promedio\n",
        "promedio = sum(notas) / len(notas)\n",
        "\n",
        "# Imprimir el promedio\n",
        "print(f\"El promedio es: {promedio}\")\n"
      ],
      "metadata": {
        "colab": {
          "base_uri": "https://localhost:8080/",
          "height": 356
        },
        "id": "818vLkNlO5xo",
        "outputId": "6bb5c2ce-c1ee-4ac4-c525-d0d7e36a3cf4"
      },
      "execution_count": null,
      "outputs": [
        {
          "output_type": "error",
          "ename": "KeyboardInterrupt",
          "evalue": "Interrupted by user",
          "traceback": [
            "\u001b[0;31m---------------------------------------------------------------------------\u001b[0m",
            "\u001b[0;31mKeyboardInterrupt\u001b[0m                         Traceback (most recent call last)",
            "\u001b[0;32m<ipython-input-1-cca33809affd>\u001b[0m in \u001b[0;36m<cell line: 3>\u001b[0;34m()\u001b[0m\n\u001b[1;32m      2\u001b[0m \u001b[0mnotas\u001b[0m \u001b[0;34m=\u001b[0m \u001b[0;34m[\u001b[0m\u001b[0;34m]\u001b[0m\u001b[0;34m\u001b[0m\u001b[0;34m\u001b[0m\u001b[0m\n\u001b[1;32m      3\u001b[0m \u001b[0;32mfor\u001b[0m \u001b[0mi\u001b[0m \u001b[0;32min\u001b[0m \u001b[0mrange\u001b[0m\u001b[0;34m(\u001b[0m\u001b[0;36m6\u001b[0m\u001b[0;34m)\u001b[0m\u001b[0;34m:\u001b[0m\u001b[0;34m\u001b[0m\u001b[0;34m\u001b[0m\u001b[0m\n\u001b[0;32m----> 4\u001b[0;31m     \u001b[0mnota\u001b[0m \u001b[0;34m=\u001b[0m \u001b[0mfloat\u001b[0m\u001b[0;34m(\u001b[0m\u001b[0minput\u001b[0m\u001b[0;34m(\u001b[0m\u001b[0;34mf\"Ingresa la nota {i + 1}: \"\u001b[0m\u001b[0;34m)\u001b[0m\u001b[0;34m)\u001b[0m\u001b[0;34m\u001b[0m\u001b[0;34m\u001b[0m\u001b[0m\n\u001b[0m\u001b[1;32m      5\u001b[0m     \u001b[0mnotas\u001b[0m\u001b[0;34m.\u001b[0m\u001b[0mappend\u001b[0m\u001b[0;34m(\u001b[0m\u001b[0mnota\u001b[0m\u001b[0;34m)\u001b[0m\u001b[0;34m\u001b[0m\u001b[0;34m\u001b[0m\u001b[0m\n\u001b[1;32m      6\u001b[0m \u001b[0;34m\u001b[0m\u001b[0m\n",
            "\u001b[0;32m/usr/local/lib/python3.10/dist-packages/ipykernel/kernelbase.py\u001b[0m in \u001b[0;36mraw_input\u001b[0;34m(self, prompt)\u001b[0m\n\u001b[1;32m    849\u001b[0m                 \u001b[0;34m\"raw_input was called, but this frontend does not support input requests.\"\u001b[0m\u001b[0;34m\u001b[0m\u001b[0;34m\u001b[0m\u001b[0m\n\u001b[1;32m    850\u001b[0m             )\n\u001b[0;32m--> 851\u001b[0;31m         return self._input_request(str(prompt),\n\u001b[0m\u001b[1;32m    852\u001b[0m             \u001b[0mself\u001b[0m\u001b[0;34m.\u001b[0m\u001b[0m_parent_ident\u001b[0m\u001b[0;34m,\u001b[0m\u001b[0;34m\u001b[0m\u001b[0;34m\u001b[0m\u001b[0m\n\u001b[1;32m    853\u001b[0m             \u001b[0mself\u001b[0m\u001b[0;34m.\u001b[0m\u001b[0m_parent_header\u001b[0m\u001b[0;34m,\u001b[0m\u001b[0;34m\u001b[0m\u001b[0;34m\u001b[0m\u001b[0m\n",
            "\u001b[0;32m/usr/local/lib/python3.10/dist-packages/ipykernel/kernelbase.py\u001b[0m in \u001b[0;36m_input_request\u001b[0;34m(self, prompt, ident, parent, password)\u001b[0m\n\u001b[1;32m    893\u001b[0m             \u001b[0;32mexcept\u001b[0m \u001b[0mKeyboardInterrupt\u001b[0m\u001b[0;34m:\u001b[0m\u001b[0;34m\u001b[0m\u001b[0;34m\u001b[0m\u001b[0m\n\u001b[1;32m    894\u001b[0m                 \u001b[0;31m# re-raise KeyboardInterrupt, to truncate traceback\u001b[0m\u001b[0;34m\u001b[0m\u001b[0;34m\u001b[0m\u001b[0m\n\u001b[0;32m--> 895\u001b[0;31m                 \u001b[0;32mraise\u001b[0m \u001b[0mKeyboardInterrupt\u001b[0m\u001b[0;34m(\u001b[0m\u001b[0;34m\"Interrupted by user\"\u001b[0m\u001b[0;34m)\u001b[0m \u001b[0;32mfrom\u001b[0m \u001b[0;32mNone\u001b[0m\u001b[0;34m\u001b[0m\u001b[0;34m\u001b[0m\u001b[0m\n\u001b[0m\u001b[1;32m    896\u001b[0m             \u001b[0;32mexcept\u001b[0m \u001b[0mException\u001b[0m \u001b[0;32mas\u001b[0m \u001b[0me\u001b[0m\u001b[0;34m:\u001b[0m\u001b[0;34m\u001b[0m\u001b[0;34m\u001b[0m\u001b[0m\n\u001b[1;32m    897\u001b[0m                 \u001b[0mself\u001b[0m\u001b[0;34m.\u001b[0m\u001b[0mlog\u001b[0m\u001b[0;34m.\u001b[0m\u001b[0mwarning\u001b[0m\u001b[0;34m(\u001b[0m\u001b[0;34m\"Invalid Message:\"\u001b[0m\u001b[0;34m,\u001b[0m \u001b[0mexc_info\u001b[0m\u001b[0;34m=\u001b[0m\u001b[0;32mTrue\u001b[0m\u001b[0;34m)\u001b[0m\u001b[0;34m\u001b[0m\u001b[0;34m\u001b[0m\u001b[0m\n",
            "\u001b[0;31mKeyboardInterrupt\u001b[0m: Interrupted by user"
          ]
        }
      ]
    },
    {
      "cell_type": "code",
      "source": [
        "# Solicitar un valor al usuario\n",
        "valor = input(\"Ingresa un valor: \")\n",
        "\n",
        "# Imprimir el tipo de dato\n",
        "print(f\"El tipo de dato es: {type(valor).__name__}\")\n"
      ],
      "metadata": {
        "id": "lhmIdrERO_NX"
      },
      "execution_count": null,
      "outputs": []
    },
    {
      "cell_type": "code",
      "source": [
        "# Solicitar el número de horas trabajadas y el coste por hora\n",
        "horas = float(input(\"Ingresa el número de horas trabajadas: \"))\n",
        "coste_por_hora = float(input(\"Ingresa el coste por hora: \"))\n",
        "\n",
        "# Calcular el valor total\n",
        "valor_total = horas * coste_por_hora\n",
        "\n",
        "# Imprimir el valor total\n",
        "print(f\"El valor total es: {valor_total}\")\n"
      ],
      "metadata": {
        "id": "9G__qa_LPAJA"
      },
      "execution_count": null,
      "outputs": []
    },
    {
      "cell_type": "code",
      "source": [
        "# Solicitar la temperatura en grados Celsius\n",
        "celsius = float(input(\"Ingresa la temperatura en grados Celsius: \"))\n",
        "\n",
        "# Convertir a Kelvin y Fahrenheit\n",
        "kelvin = celsius + 273.15\n",
        "fahrenheit = (celsius * 9/5) + 32\n",
        "\n",
        "# Imprimir los resultados\n",
        "print(f\"Temperatura en Kelvin: {kelvin} °K\")\n",
        "print(f\"Temperatura en Fahrenheit: {fahrenheit} °F\")\n"
      ],
      "metadata": {
        "id": "ZdgpMdhGPFYf"
      },
      "execution_count": null,
      "outputs": []
    },
    {
      "cell_type": "code",
      "source": [
        "# Solicitar dos números al usuario\n",
        "num1 = float(input(\"Ingresa el primer número: \"))\n",
        "num2 = float(input(\"Ingresa el segundo número: \"))\n",
        "\n",
        "# Imprimir si el segundo número es mayor\n",
        "print(num2 > num1)\n"
      ],
      "metadata": {
        "id": "mdPYBCpvPtCO"
      },
      "execution_count": null,
      "outputs": []
    },
    {
      "cell_type": "code",
      "source": [
        "# Solicitar dos números al usuario\n",
        "num1 = float(input(\"Ingresa el primer número: \"))\n",
        "num2 = float(input(\"Ingresa el segundo número: \"))\n",
        "\n",
        "# Imprimir si el segundo número es menor\n",
        "print(num2 < num1)\n"
      ],
      "metadata": {
        "id": "rGiZUz8oPuY2"
      },
      "execution_count": null,
      "outputs": []
    },
    {
      "cell_type": "code",
      "source": [
        "# Solicitar distancia y velocidad\n",
        "distancia = float(input(\"Ingresa la distancia en metros: \"))\n",
        "velocidad = float(input(\"Ingresa la velocidad en metros/segundo: \"))\n",
        "\n",
        "# Calcular el tiempo\n",
        "tiempo = distancia / velocidad\n",
        "\n",
        "# Imprimir el tiempo\n",
        "print(f\"El tiempo de recorrido es: {tiempo} segundos\")\n"
      ],
      "metadata": {
        "id": "HAovvCeXPvyN"
      },
      "execution_count": null,
      "outputs": []
    },
    {
      "cell_type": "code",
      "source": [
        "# Solicitar tres valores al usuario\n",
        "a = float(input(\"Ingresa el valor de a: \"))\n",
        "b = float(input(\"Ingresa el valor de b: \"))\n",
        "c = float(input(\"Ingresa el valor de c: \"))\n",
        "\n",
        "# Calcular la ecuación\n",
        "resultado = (a + b * c) ** 2 + (a - b * c) ** 2\n",
        "\n",
        "# Imprimir el resultado\n",
        "print(f\"El resultado de la ecuación es: {resultado}\")\n"
      ],
      "metadata": {
        "id": "glY5X47CPxOe"
      },
      "execution_count": null,
      "outputs": []
    },
    {
      "cell_type": "code",
      "source": [
        "import math\n",
        "\n",
        "# Solicitar un número al usuario\n",
        "numero = float(input(\"Ingresa un número para calcular la raíz cuadrada: \"))\n",
        "\n",
        "# Calcular la raíz cuadrada\n",
        "raiz_cuadrada = math.sqrt(numero)\n",
        "\n",
        "# Imprimir el resultado\n",
        "print(f\"La raíz cuadrada de {numero} es: {raiz_cuadrada}\")\n"
      ],
      "metadata": {
        "id": "Jq1WCo54P03H"
      },
      "execution_count": null,
      "outputs": []
    },
    {
      "cell_type": "code",
      "source": [
        "import math\n",
        "\n",
        "# Solicitar los catetos al usuario\n",
        "cateto_a = float(input(\"Ingresa el valor del cateto a: \"))\n",
        "cateto_b = float(input(\"Ingresa el valor del cateto b: \"))\n",
        "\n",
        "# Calcular la hipotenusa\n",
        "hipotenusa = math.sqrt(cateto_a ** 2 + cateto_b ** 2)\n",
        "\n",
        "# Imprimir la hipotenusa\n",
        "print(f\"Hipotenusa = {hipotenusa}\")\n"
      ],
      "metadata": {
        "id": "fDkhZqh9P1Sm"
      },
      "execution_count": null,
      "outputs": []
    }
  ]
}