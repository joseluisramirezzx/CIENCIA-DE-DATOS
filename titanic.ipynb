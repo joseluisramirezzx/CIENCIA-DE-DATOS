{
  "nbformat": 4,
  "nbformat_minor": 0,
  "metadata": {
    "colab": {
      "provenance": []
    },
    "kernelspec": {
      "name": "python3",
      "display_name": "Python 3"
    },
    "language_info": {
      "name": "python"
    }
  },
  "cells": [
    {
      "cell_type": "code",
      "execution_count": 3,
      "metadata": {
        "colab": {
          "base_uri": "https://localhost:8080/"
        },
        "id": "137XAr2viOnr",
        "outputId": "2f2fca85-9a77-4440-87d7-cbcfea18d525"
      },
      "outputs": [
        {
          "output_type": "stream",
          "name": "stdout",
          "text": [
            "Probabilidad de supervivencia de Jack: 0.53\n"
          ]
        },
        {
          "output_type": "stream",
          "name": "stderr",
          "text": [
            "/usr/local/lib/python3.10/dist-packages/sklearn/base.py:493: UserWarning: X does not have valid feature names, but StandardScaler was fitted with feature names\n",
            "  warnings.warn(\n"
          ]
        }
      ],
      "source": [
        "import pandas as pd\n",
        "from sklearn.model_selection import train_test_split\n",
        "from sklearn.linear_model import LogisticRegression\n",
        "from sklearn.preprocessing import StandardScaler\n",
        "\n",
        "# Cargar el dataset\n",
        "df = pd.read_csv('/content/titanic-train.csv')\n",
        "\n",
        "# Preprocesar datos\n",
        "# Convertir la columna 'Sex' a numérica\n",
        "df['Sex'] = df['Sex'].map({'male': 0, 'female': 1})\n",
        "\n",
        "# Llenar NaNs en 'Age' y 'Fare' con la media\n",
        "df['Age'] = df['Age'].fillna(df['Age'].mean())\n",
        "df['Fare'] = df['Fare'].fillna(df['Fare'].mean())\n",
        "\n",
        "# Seleccionar las columnas relevantes y eliminar las no necesarias\n",
        "df = df[['Survived', 'Pclass', 'Sex', 'Age', 'SibSp', 'Parch', 'Fare']]\n",
        "\n",
        "# Dividir datos en características (X) y etiquetas (y)\n",
        "X = df.drop('Survived', axis=1)\n",
        "y = df['Survived']\n",
        "\n",
        "# Dividir en conjunto de entrenamiento y prueba\n",
        "X_train, X_test, y_train, y_test = train_test_split(X, y, test_size=0.2, random_state=42)\n",
        "\n",
        "# Estandarizar datos\n",
        "scaler = StandardScaler()\n",
        "X_train = scaler.fit_transform(X_train)\n",
        "X_test = scaler.transform(X_test)\n",
        "\n",
        "# Crear y entrenar el modelo\n",
        "model = LogisticRegression()\n",
        "model.fit(X_train, y_train)\n",
        "\n",
        "# Datos de Jack (suponiendo que son los mismos que el primer registro del dataset)\n",
        "jack_data = [[1, 0, 20, 0, 0, 7.25]]  # Pclass, Sex, Age, SibSp, Parch, Fare\n",
        "jack_data_scaled = scaler.transform(jack_data)\n",
        "\n",
        "# Predecir la supervivencia de Jack\n",
        "jack_survival_prob = model.predict_proba(jack_data_scaled)[0][1]  # Probabilidad de sobrevivir\n",
        "\n",
        "print(f\"Probabilidad de supervivencia de Jack: {jack_survival_prob:.2f}\")\n"
      ]
    }
  ]
}